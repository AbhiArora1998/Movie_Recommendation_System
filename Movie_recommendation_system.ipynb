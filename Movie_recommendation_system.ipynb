{
 "cells": [
  {
   "attachments": {},
   "cell_type": "markdown",
   "metadata": {},
   "source": [
    "# Movie Recommendation System \n",
    "    Using K-means and KNN algorithm\n",
    "\n"
   ]
  },
  {
   "cell_type": "code",
   "execution_count": 54,
   "metadata": {},
   "outputs": [],
   "source": [
    "import numpy as np  \n",
    "\n",
    "\n",
    "\n",
    "from math import sqrt \n",
    "\n",
    "import pandas as pd \n",
    "import ast \n",
    "import warnings\n",
    "warnings.filterwarnings('ignore')\n"
   ]
  },
  {
   "attachments": {},
   "cell_type": "markdown",
   "metadata": {},
   "source": [
    "1) Selecting movie dataset\n",
    "2) Selecting the features  "
   ]
  },
  {
   "cell_type": "code",
   "execution_count": 55,
   "metadata": {},
   "outputs": [
    {
     "data": {
      "text/html": [
       "<div>\n",
       "<style scoped>\n",
       "    .dataframe tbody tr th:only-of-type {\n",
       "        vertical-align: middle;\n",
       "    }\n",
       "\n",
       "    .dataframe tbody tr th {\n",
       "        vertical-align: top;\n",
       "    }\n",
       "\n",
       "    .dataframe thead th {\n",
       "        text-align: right;\n",
       "    }\n",
       "</style>\n",
       "<table border=\"1\" class=\"dataframe\">\n",
       "  <thead>\n",
       "    <tr style=\"text-align: right;\">\n",
       "      <th></th>\n",
       "      <th>budget</th>\n",
       "      <th>genres</th>\n",
       "      <th>revenue</th>\n",
       "      <th>title</th>\n",
       "      <th>runtime</th>\n",
       "      <th>vote_average</th>\n",
       "    </tr>\n",
       "  </thead>\n",
       "  <tbody>\n",
       "    <tr>\n",
       "      <th>0</th>\n",
       "      <td>237000000</td>\n",
       "      <td>[{\"id\": 28, \"name\": \"Action\"}, {\"id\": 12, \"nam...</td>\n",
       "      <td>2787965087</td>\n",
       "      <td>Avatar</td>\n",
       "      <td>162.0</td>\n",
       "      <td>7.2</td>\n",
       "    </tr>\n",
       "    <tr>\n",
       "      <th>1</th>\n",
       "      <td>300000000</td>\n",
       "      <td>[{\"id\": 12, \"name\": \"Adventure\"}, {\"id\": 14, \"...</td>\n",
       "      <td>961000000</td>\n",
       "      <td>Pirates of the Caribbean: At World's End</td>\n",
       "      <td>169.0</td>\n",
       "      <td>6.9</td>\n",
       "    </tr>\n",
       "    <tr>\n",
       "      <th>2</th>\n",
       "      <td>245000000</td>\n",
       "      <td>[{\"id\": 28, \"name\": \"Action\"}, {\"id\": 12, \"nam...</td>\n",
       "      <td>880674609</td>\n",
       "      <td>Spectre</td>\n",
       "      <td>148.0</td>\n",
       "      <td>6.3</td>\n",
       "    </tr>\n",
       "    <tr>\n",
       "      <th>3</th>\n",
       "      <td>250000000</td>\n",
       "      <td>[{\"id\": 28, \"name\": \"Action\"}, {\"id\": 80, \"nam...</td>\n",
       "      <td>1084939099</td>\n",
       "      <td>The Dark Knight Rises</td>\n",
       "      <td>165.0</td>\n",
       "      <td>7.6</td>\n",
       "    </tr>\n",
       "    <tr>\n",
       "      <th>4</th>\n",
       "      <td>260000000</td>\n",
       "      <td>[{\"id\": 28, \"name\": \"Action\"}, {\"id\": 12, \"nam...</td>\n",
       "      <td>284139100</td>\n",
       "      <td>John Carter</td>\n",
       "      <td>132.0</td>\n",
       "      <td>6.1</td>\n",
       "    </tr>\n",
       "  </tbody>\n",
       "</table>\n",
       "</div>"
      ],
      "text/plain": [
       "      budget                                             genres     revenue  \\\n",
       "0  237000000  [{\"id\": 28, \"name\": \"Action\"}, {\"id\": 12, \"nam...  2787965087   \n",
       "1  300000000  [{\"id\": 12, \"name\": \"Adventure\"}, {\"id\": 14, \"...   961000000   \n",
       "2  245000000  [{\"id\": 28, \"name\": \"Action\"}, {\"id\": 12, \"nam...   880674609   \n",
       "3  250000000  [{\"id\": 28, \"name\": \"Action\"}, {\"id\": 80, \"nam...  1084939099   \n",
       "4  260000000  [{\"id\": 28, \"name\": \"Action\"}, {\"id\": 12, \"nam...   284139100   \n",
       "\n",
       "                                      title  runtime  vote_average  \n",
       "0                                    Avatar    162.0           7.2  \n",
       "1  Pirates of the Caribbean: At World's End    169.0           6.9  \n",
       "2                                   Spectre    148.0           6.3  \n",
       "3                     The Dark Knight Rises    165.0           7.6  \n",
       "4                               John Carter    132.0           6.1  "
      ]
     },
     "execution_count": 55,
     "metadata": {},
     "output_type": "execute_result"
    }
   ],
   "source": [
    "myMovieData = pd.read_csv('tmdb_5000_movies.csv')\n",
    "myMovieData = myMovieData[['budget','genres','revenue','title','runtime','vote_average']]\n",
    "myMovieData.head()"
   ]
  },
  {
   "attachments": {},
   "cell_type": "markdown",
   "metadata": {},
   "source": [
    "Checking if there are any null values and if there are drop them    "
   ]
  },
  {
   "cell_type": "code",
   "execution_count": 56,
   "metadata": {},
   "outputs": [],
   "source": [
    "myMovieData.isnull().sum()\n",
    "myMovieData.dropna(inplace=True)"
   ]
  },
  {
   "attachments": {},
   "cell_type": "markdown",
   "metadata": {},
   "source": [
    "checking if there are any duplicated values and if there are drop them "
   ]
  },
  {
   "cell_type": "code",
   "execution_count": 57,
   "metadata": {},
   "outputs": [],
   "source": [
    "\n",
    "myMovieData.duplicated().sum()\n",
    "myMovieData = myMovieData.drop_duplicates()"
   ]
  },
  {
   "cell_type": "code",
   "execution_count": 58,
   "metadata": {},
   "outputs": [
    {
     "data": {
      "text/html": [
       "<div>\n",
       "<style scoped>\n",
       "    .dataframe tbody tr th:only-of-type {\n",
       "        vertical-align: middle;\n",
       "    }\n",
       "\n",
       "    .dataframe tbody tr th {\n",
       "        vertical-align: top;\n",
       "    }\n",
       "\n",
       "    .dataframe thead th {\n",
       "        text-align: right;\n",
       "    }\n",
       "</style>\n",
       "<table border=\"1\" class=\"dataframe\">\n",
       "  <thead>\n",
       "    <tr style=\"text-align: right;\">\n",
       "      <th></th>\n",
       "      <th>budget</th>\n",
       "      <th>genres</th>\n",
       "      <th>revenue</th>\n",
       "      <th>title</th>\n",
       "      <th>runtime</th>\n",
       "      <th>vote_average</th>\n",
       "    </tr>\n",
       "  </thead>\n",
       "  <tbody>\n",
       "    <tr>\n",
       "      <th>0</th>\n",
       "      <td>237000000</td>\n",
       "      <td>[{\"id\": 28, \"name\": \"Action\"}, {\"id\": 12, \"nam...</td>\n",
       "      <td>2787965087</td>\n",
       "      <td>Avatar</td>\n",
       "      <td>162.0</td>\n",
       "      <td>7.2</td>\n",
       "    </tr>\n",
       "    <tr>\n",
       "      <th>1</th>\n",
       "      <td>300000000</td>\n",
       "      <td>[{\"id\": 12, \"name\": \"Adventure\"}, {\"id\": 14, \"...</td>\n",
       "      <td>961000000</td>\n",
       "      <td>Pirates of the Caribbean: At World's End</td>\n",
       "      <td>169.0</td>\n",
       "      <td>6.9</td>\n",
       "    </tr>\n",
       "    <tr>\n",
       "      <th>2</th>\n",
       "      <td>245000000</td>\n",
       "      <td>[{\"id\": 28, \"name\": \"Action\"}, {\"id\": 12, \"nam...</td>\n",
       "      <td>880674609</td>\n",
       "      <td>Spectre</td>\n",
       "      <td>148.0</td>\n",
       "      <td>6.3</td>\n",
       "    </tr>\n",
       "    <tr>\n",
       "      <th>3</th>\n",
       "      <td>250000000</td>\n",
       "      <td>[{\"id\": 28, \"name\": \"Action\"}, {\"id\": 80, \"nam...</td>\n",
       "      <td>1084939099</td>\n",
       "      <td>The Dark Knight Rises</td>\n",
       "      <td>165.0</td>\n",
       "      <td>7.6</td>\n",
       "    </tr>\n",
       "    <tr>\n",
       "      <th>4</th>\n",
       "      <td>260000000</td>\n",
       "      <td>[{\"id\": 28, \"name\": \"Action\"}, {\"id\": 12, \"nam...</td>\n",
       "      <td>284139100</td>\n",
       "      <td>John Carter</td>\n",
       "      <td>132.0</td>\n",
       "      <td>6.1</td>\n",
       "    </tr>\n",
       "  </tbody>\n",
       "</table>\n",
       "</div>"
      ],
      "text/plain": [
       "      budget                                             genres     revenue  \\\n",
       "0  237000000  [{\"id\": 28, \"name\": \"Action\"}, {\"id\": 12, \"nam...  2787965087   \n",
       "1  300000000  [{\"id\": 12, \"name\": \"Adventure\"}, {\"id\": 14, \"...   961000000   \n",
       "2  245000000  [{\"id\": 28, \"name\": \"Action\"}, {\"id\": 12, \"nam...   880674609   \n",
       "3  250000000  [{\"id\": 28, \"name\": \"Action\"}, {\"id\": 80, \"nam...  1084939099   \n",
       "4  260000000  [{\"id\": 28, \"name\": \"Action\"}, {\"id\": 12, \"nam...   284139100   \n",
       "\n",
       "                                      title  runtime  vote_average  \n",
       "0                                    Avatar    162.0           7.2  \n",
       "1  Pirates of the Caribbean: At World's End    169.0           6.9  \n",
       "2                                   Spectre    148.0           6.3  \n",
       "3                     The Dark Knight Rises    165.0           7.6  \n",
       "4                               John Carter    132.0           6.1  "
      ]
     },
     "execution_count": 58,
     "metadata": {},
     "output_type": "execute_result"
    }
   ],
   "source": [
    "\n",
    "myMovieData.head()"
   ]
  },
  {
   "attachments": {},
   "cell_type": "markdown",
   "metadata": {},
   "source": [
    "Finds the values with name "
   ]
  },
  {
   "cell_type": "code",
   "execution_count": 59,
   "metadata": {},
   "outputs": [],
   "source": [
    "def convert(obj):\n",
    "    L=[]\n",
    "    for i in ast.literal_eval(obj):\n",
    "        L.append(i['name'])\n",
    "    return L  "
   ]
  },
  {
   "cell_type": "code",
   "execution_count": 60,
   "metadata": {},
   "outputs": [],
   "source": [
    "myMovieData['genres'] = myMovieData['genres'].apply(convert)\n"
   ]
  },
  {
   "cell_type": "code",
   "execution_count": 61,
   "metadata": {},
   "outputs": [],
   "source": [
    "myMovieData['genres'] = myMovieData['genres'].str[0]\n"
   ]
  },
  {
   "attachments": {},
   "cell_type": "markdown",
   "metadata": {},
   "source": [
    "converts strings to values "
   ]
  },
  {
   "cell_type": "code",
   "execution_count": 62,
   "metadata": {},
   "outputs": [],
   "source": [
    "def stringToNumber(value):   \n",
    "\n",
    "    if value == 'action':   \n",
    "        return 9\n",
    "    elif value == 'comedy':   \n",
    "        return 7\n",
    "    elif value == 'romance':   \n",
    "        return 5\n",
    "    elif value == 'adventure':\n",
    "        return 3\n",
    "    elif value == 'horror':\n",
    "        return 1\n",
    "    else:\n",
    "        return 0"
   ]
  },
  {
   "cell_type": "code",
   "execution_count": 63,
   "metadata": {},
   "outputs": [],
   "source": [
    "myMovieData.head()\n",
    "myMovieData = myMovieData[(myMovieData[['budget','genres','budget','runtime','vote_average']] != 0).all(axis=1)]\n",
    "testDataSet=myMovieData.sample(n=100)"
   ]
  },
  {
   "attachments": {},
   "cell_type": "markdown",
   "metadata": {},
   "source": [
    "Converts the genres into a string and remove all the values that does not come under the genres we choose"
   ]
  },
  {
   "cell_type": "code",
   "execution_count": 64,
   "metadata": {},
   "outputs": [
    {
     "data": {
      "text/html": [
       "<div>\n",
       "<style scoped>\n",
       "    .dataframe tbody tr th:only-of-type {\n",
       "        vertical-align: middle;\n",
       "    }\n",
       "\n",
       "    .dataframe tbody tr th {\n",
       "        vertical-align: top;\n",
       "    }\n",
       "\n",
       "    .dataframe thead th {\n",
       "        text-align: right;\n",
       "    }\n",
       "</style>\n",
       "<table border=\"1\" class=\"dataframe\">\n",
       "  <thead>\n",
       "    <tr style=\"text-align: right;\">\n",
       "      <th></th>\n",
       "      <th>budget</th>\n",
       "      <th>genres</th>\n",
       "      <th>revenue</th>\n",
       "      <th>title</th>\n",
       "      <th>runtime</th>\n",
       "      <th>vote_average</th>\n",
       "    </tr>\n",
       "  </thead>\n",
       "  <tbody>\n",
       "    <tr>\n",
       "      <th>140</th>\n",
       "      <td>150000000</td>\n",
       "      <td>9</td>\n",
       "      <td>205366737</td>\n",
       "      <td>White House Down</td>\n",
       "      <td>131.0</td>\n",
       "      <td>6.4</td>\n",
       "    </tr>\n",
       "    <tr>\n",
       "      <th>3277</th>\n",
       "      <td>7200000</td>\n",
       "      <td>7</td>\n",
       "      <td>0</td>\n",
       "      <td>Made in Dagenham</td>\n",
       "      <td>113.0</td>\n",
       "      <td>6.6</td>\n",
       "    </tr>\n",
       "    <tr>\n",
       "      <th>62</th>\n",
       "      <td>180000000</td>\n",
       "      <td>9</td>\n",
       "      <td>356743061</td>\n",
       "      <td>The Legend of Tarzan</td>\n",
       "      <td>109.0</td>\n",
       "      <td>5.5</td>\n",
       "    </tr>\n",
       "    <tr>\n",
       "      <th>1628</th>\n",
       "      <td>30000000</td>\n",
       "      <td>9</td>\n",
       "      <td>108609310</td>\n",
       "      <td>Sanctum</td>\n",
       "      <td>108.0</td>\n",
       "      <td>5.8</td>\n",
       "    </tr>\n",
       "    <tr>\n",
       "      <th>1964</th>\n",
       "      <td>41300000</td>\n",
       "      <td>7</td>\n",
       "      <td>106371651</td>\n",
       "      <td>The Whole Nine Yards</td>\n",
       "      <td>98.0</td>\n",
       "      <td>6.2</td>\n",
       "    </tr>\n",
       "  </tbody>\n",
       "</table>\n",
       "</div>"
      ],
      "text/plain": [
       "         budget  genres    revenue                 title  runtime  \\\n",
       "140   150000000       9  205366737      White House Down    131.0   \n",
       "3277    7200000       7          0      Made in Dagenham    113.0   \n",
       "62    180000000       9  356743061  The Legend of Tarzan    109.0   \n",
       "1628   30000000       9  108609310               Sanctum    108.0   \n",
       "1964   41300000       7  106371651  The Whole Nine Yards     98.0   \n",
       "\n",
       "      vote_average  \n",
       "140            6.4  \n",
       "3277           6.6  \n",
       "62             5.5  \n",
       "1628           5.8  \n",
       "1964           6.2  "
      ]
     },
     "execution_count": 64,
     "metadata": {},
     "output_type": "execute_result"
    }
   ],
   "source": [
    "testDataSet['genres'].astype(str)\n",
    "testDataSet['genres']=testDataSet['genres'].apply(lambda x:x.lower())\n",
    "testDataSet['genres']=testDataSet['genres'].apply(stringToNumber)\n",
    "testDataSet = testDataSet[(testDataSet[['genres']] != 0).all(axis=1)]\n",
    "\n",
    "testDataSet.head()\n"
   ]
  },
  {
   "cell_type": "code",
   "execution_count": 65,
   "metadata": {},
   "outputs": [],
   "source": [
    "Xtrain_dataset = testDataSet[(testDataSet[['genres','budget','revenue','runtime','vote_average']] != 0).all(axis=1)]\n",
    "Xtrain_dataset = testDataSet[['genres','budget','revenue','runtime','vote_average']]\n",
    "tempDataset = Xtrain_dataset\n",
    "\n",
    "\n"
   ]
  },
  {
   "attachments": {},
   "cell_type": "markdown",
   "metadata": {},
   "source": [
    "Converts the values to be in between the range 1 to 10 "
   ]
  },
  {
   "cell_type": "code",
   "execution_count": 66,
   "metadata": {},
   "outputs": [
    {
     "data": {
      "text/html": [
       "<div>\n",
       "<style scoped>\n",
       "    .dataframe tbody tr th:only-of-type {\n",
       "        vertical-align: middle;\n",
       "    }\n",
       "\n",
       "    .dataframe tbody tr th {\n",
       "        vertical-align: top;\n",
       "    }\n",
       "\n",
       "    .dataframe thead th {\n",
       "        text-align: right;\n",
       "    }\n",
       "</style>\n",
       "<table border=\"1\" class=\"dataframe\">\n",
       "  <thead>\n",
       "    <tr style=\"text-align: right;\">\n",
       "      <th></th>\n",
       "      <th>genres</th>\n",
       "      <th>budget</th>\n",
       "      <th>revenue</th>\n",
       "      <th>runtime</th>\n",
       "      <th>vote_average</th>\n",
       "    </tr>\n",
       "  </thead>\n",
       "  <tbody>\n",
       "    <tr>\n",
       "      <th>140</th>\n",
       "      <td>10.00</td>\n",
       "      <td>7.738693</td>\n",
       "      <td>3.349626</td>\n",
       "      <td>6.4000</td>\n",
       "      <td>6.896552</td>\n",
       "    </tr>\n",
       "    <tr>\n",
       "      <th>3277</th>\n",
       "      <td>7.75</td>\n",
       "      <td>1.280402</td>\n",
       "      <td>1.000000</td>\n",
       "      <td>4.3750</td>\n",
       "      <td>7.517241</td>\n",
       "    </tr>\n",
       "    <tr>\n",
       "      <th>62</th>\n",
       "      <td>10.00</td>\n",
       "      <td>9.095477</td>\n",
       "      <td>5.081541</td>\n",
       "      <td>3.9250</td>\n",
       "      <td>4.103448</td>\n",
       "    </tr>\n",
       "    <tr>\n",
       "      <th>1628</th>\n",
       "      <td>10.00</td>\n",
       "      <td>2.311558</td>\n",
       "      <td>2.242613</td>\n",
       "      <td>3.8125</td>\n",
       "      <td>5.034483</td>\n",
       "    </tr>\n",
       "    <tr>\n",
       "      <th>1964</th>\n",
       "      <td>7.75</td>\n",
       "      <td>2.822613</td>\n",
       "      <td>2.217011</td>\n",
       "      <td>2.6875</td>\n",
       "      <td>6.275862</td>\n",
       "    </tr>\n",
       "  </tbody>\n",
       "</table>\n",
       "</div>"
      ],
      "text/plain": [
       "      genres    budget   revenue  runtime  vote_average\n",
       "140    10.00  7.738693  3.349626   6.4000      6.896552\n",
       "3277    7.75  1.280402  1.000000   4.3750      7.517241\n",
       "62     10.00  9.095477  5.081541   3.9250      4.103448\n",
       "1628   10.00  2.311558  2.242613   3.8125      5.034483\n",
       "1964    7.75  2.822613  2.217011   2.6875      6.275862"
      ]
     },
     "execution_count": 66,
     "metadata": {},
     "output_type": "execute_result"
    }
   ],
   "source": [
    "Xtrain_dataset = ((Xtrain_dataset - Xtrain_dataset.min())/(Xtrain_dataset.max() - Xtrain_dataset.min()))*9 +1\n",
    "\n",
    "testDataSet[['budget','genres','revenue','runtime','vote_average']] = Xtrain_dataset[['budget','genres','revenue','runtime','vote_average']]\n",
    "Xtrain_dataset.head()\n",
    "\n"
   ]
  },
  {
   "attachments": {},
   "cell_type": "markdown",
   "metadata": {},
   "source": [
    "# Eucledian Distance "
   ]
  },
  {
   "cell_type": "code",
   "execution_count": 67,
   "metadata": {},
   "outputs": [],
   "source": [
    "def eucledian_distance(itemRow,dataRow):\n",
    "    # in the begninnig the distance is 0\n",
    "    distance = 0 \n",
    "\n",
    "    # Traverse through the entire row of the dataset and the itemRow then calculate eucledian_distance \n",
    "    for column in range(len(itemRow)-1):\n",
    "        distance = distance + (itemRow[column] - dataRow[column])**2\n",
    "\n",
    "    distance = sqrt(distance)     \n",
    "    return distance"
   ]
  },
  {
   "attachments": {},
   "cell_type": "markdown",
   "metadata": {},
   "source": [
    "# KNN algorithm"
   ]
  },
  {
   "cell_type": "code",
   "execution_count": 68,
   "metadata": {},
   "outputs": [],
   "source": [
    "def getKNearestNeighbour(trainValues, unknowValue,totalNeighbours):\n",
    "    saveDistance =[]\n",
    "    for row in range(len(trainValues)):\n",
    "        values = trainValues.iloc[row].values\n",
    "        distance = eucledian_distance(unknowValue,values)\n",
    "        saveDistance.append((values,distance))\n",
    "      \n",
    "    saveDistance.sort(key=lambda index:index[1])\n",
    "\n",
    "    neighborList = []\n",
    "    for i in range(totalNeighbours):\n",
    "        neighborList.append(saveDistance[i][0])  \n",
    "    return neighborList\n",
    "\t\n",
    "\t\t\n",
    "\t\n",
    "\n",
    "\t    "
   ]
  },
  {
   "cell_type": "code",
   "execution_count": 69,
   "metadata": {},
   "outputs": [],
   "source": [
    "columns = Xtrain_dataset.shape[1]\n",
    "rows = Xtrain_dataset.shape[0]\n"
   ]
  },
  {
   "attachments": {},
   "cell_type": "markdown",
   "metadata": {},
   "source": [
    "Calculating Centroid distances"
   ]
  },
  {
   "cell_type": "code",
   "execution_count": 70,
   "metadata": {},
   "outputs": [],
   "source": [
    "def distanceFunction(oldcentorids,newCentroid):\n",
    "    return  np.linalg.norm(oldcentorids - newCentroid)"
   ]
  },
  {
   "cell_type": "code",
   "execution_count": 71,
   "metadata": {},
   "outputs": [],
   "source": [
    "dataNumpy = Xtrain_dataset.to_numpy()"
   ]
  },
  {
   "attachments": {},
   "cell_type": "markdown",
   "metadata": {},
   "source": [
    "# K means"
   ]
  },
  {
   "cell_type": "code",
   "execution_count": 72,
   "metadata": {},
   "outputs": [
    {
     "name": "stdout",
     "output_type": "stream",
     "text": [
      "cluster 5\n",
      "initial centroids [[ 7.75        1.85929648  2.38967577  4.375       8.75862069]\n",
      " [ 7.75        2.58291457  1.95145223  3.475       3.79310345]\n",
      " [ 3.25       10.          8.13849829  5.6125      7.51724138]\n",
      " [ 3.25        2.22110553  1.36150416  7.3         7.20689655]\n",
      " [ 7.75        2.53768844  1.40413815  3.1375      8.44827586]]\n",
      "4 iterations\n",
      "[0. 4. 2. 1. 4. 3. 4. 4. 0. 1. 1. 1. 1. 2. 4. 2. 3. 1. 3. 4. 1. 1. 0. 1.\n",
      " 1. 1. 3. 4. 3. 0. 2. 0. 1. 1. 3. 4. 2. 1. 4. 1. 0. 1. 1. 4. 4. 1. 2. 4.\n",
      " 4. 1. 1. 3. 0. 0.]\n"
     ]
    }
   ],
   "source": [
    "for i in range(1):\n",
    "    \n",
    "    random = np.random.default_rng()\n",
    "    totalCluster = 5\n",
    "    print('cluster',totalCluster)\n",
    "    totalIterations = 0\n",
    "\n",
    "    centroids = np.zeros((totalCluster, columns))\n",
    "    for i in range(totalCluster):\n",
    "        random_value = int(rows * random.random())\n",
    "        centroids[i] = dataNumpy[random_value]\n",
    "    print('initial centroids',centroids)\n",
    "\n",
    "    oldcentorids = np.zeros((totalCluster, columns))\n",
    "    while distanceFunction(oldcentorids,centroids) > 0:\n",
    "        predicedCluster = np.zeros(rows)\n",
    "        for i in range(rows):\n",
    "            distances = [distanceFunction(dataNumpy[i],value) for value in centroids]\n",
    "            nearest_center = np.argmin(distances)\n",
    "            predicedCluster[i] = nearest_center\n",
    "         \n",
    "\n",
    "   \n",
    "        oldcentorids = centroids.copy()\n",
    "        \n",
    "        centroids = np.zeros((totalCluster,columns))\n",
    "        for i in range(totalCluster):\n",
    "            centroids[i] = np.average(dataNumpy[predicedCluster == i], axis=0)\n",
    "        totalIterations = totalIterations+1\n",
    "        \n",
    "    print(totalIterations,'iterations')\n",
    "print(predicedCluster)"
   ]
  },
  {
   "cell_type": "code",
   "execution_count": 73,
   "metadata": {},
   "outputs": [
    {
     "data": {
      "text/html": [
       "<div>\n",
       "<style scoped>\n",
       "    .dataframe tbody tr th:only-of-type {\n",
       "        vertical-align: middle;\n",
       "    }\n",
       "\n",
       "    .dataframe tbody tr th {\n",
       "        vertical-align: top;\n",
       "    }\n",
       "\n",
       "    .dataframe thead th {\n",
       "        text-align: right;\n",
       "    }\n",
       "</style>\n",
       "<table border=\"1\" class=\"dataframe\">\n",
       "  <thead>\n",
       "    <tr style=\"text-align: right;\">\n",
       "      <th></th>\n",
       "      <th>budget</th>\n",
       "      <th>genres</th>\n",
       "      <th>revenue</th>\n",
       "      <th>title</th>\n",
       "      <th>runtime</th>\n",
       "      <th>vote_average</th>\n",
       "      <th>labels</th>\n",
       "    </tr>\n",
       "  </thead>\n",
       "  <tbody>\n",
       "    <tr>\n",
       "      <th>140</th>\n",
       "      <td>7.738693</td>\n",
       "      <td>10.00</td>\n",
       "      <td>3.349626</td>\n",
       "      <td>White House Down</td>\n",
       "      <td>6.4000</td>\n",
       "      <td>6.896552</td>\n",
       "      <td>0.0</td>\n",
       "    </tr>\n",
       "    <tr>\n",
       "      <th>3277</th>\n",
       "      <td>1.280402</td>\n",
       "      <td>7.75</td>\n",
       "      <td>1.000000</td>\n",
       "      <td>Made in Dagenham</td>\n",
       "      <td>4.3750</td>\n",
       "      <td>7.517241</td>\n",
       "      <td>4.0</td>\n",
       "    </tr>\n",
       "    <tr>\n",
       "      <th>62</th>\n",
       "      <td>9.095477</td>\n",
       "      <td>10.00</td>\n",
       "      <td>5.081541</td>\n",
       "      <td>The Legend of Tarzan</td>\n",
       "      <td>3.9250</td>\n",
       "      <td>4.103448</td>\n",
       "      <td>2.0</td>\n",
       "    </tr>\n",
       "    <tr>\n",
       "      <th>1628</th>\n",
       "      <td>2.311558</td>\n",
       "      <td>10.00</td>\n",
       "      <td>2.242613</td>\n",
       "      <td>Sanctum</td>\n",
       "      <td>3.8125</td>\n",
       "      <td>5.034483</td>\n",
       "      <td>1.0</td>\n",
       "    </tr>\n",
       "    <tr>\n",
       "      <th>1964</th>\n",
       "      <td>2.822613</td>\n",
       "      <td>7.75</td>\n",
       "      <td>2.217011</td>\n",
       "      <td>The Whole Nine Yards</td>\n",
       "      <td>2.6875</td>\n",
       "      <td>6.275862</td>\n",
       "      <td>4.0</td>\n",
       "    </tr>\n",
       "  </tbody>\n",
       "</table>\n",
       "</div>"
      ],
      "text/plain": [
       "        budget  genres   revenue                 title  runtime  vote_average  \\\n",
       "140   7.738693   10.00  3.349626      White House Down   6.4000      6.896552   \n",
       "3277  1.280402    7.75  1.000000      Made in Dagenham   4.3750      7.517241   \n",
       "62    9.095477   10.00  5.081541  The Legend of Tarzan   3.9250      4.103448   \n",
       "1628  2.311558   10.00  2.242613               Sanctum   3.8125      5.034483   \n",
       "1964  2.822613    7.75  2.217011  The Whole Nine Yards   2.6875      6.275862   \n",
       "\n",
       "      labels  \n",
       "140      0.0  \n",
       "3277     4.0  \n",
       "62       2.0  \n",
       "1628     1.0  \n",
       "1964     4.0  "
      ]
     },
     "execution_count": 73,
     "metadata": {},
     "output_type": "execute_result"
    }
   ],
   "source": [
    "Labels = predicedCluster\n",
    "testDataSet['labels'] = Labels\n",
    "testDataSet.head()\n"
   ]
  },
  {
   "attachments": {},
   "cell_type": "markdown",
   "metadata": {},
   "source": [
    "Takes the value from the user about the new movie that user would like to add."
   ]
  },
  {
   "cell_type": "code",
   "execution_count": 74,
   "metadata": {},
   "outputs": [],
   "source": [
    "\n",
    "usreMovie_recommended = pd.DataFrame()\n"
   ]
  },
  {
   "attachments": {},
   "cell_type": "markdown",
   "metadata": {},
   "source": [
    "add the given values to the dataset"
   ]
  },
  {
   "attachments": {},
   "cell_type": "markdown",
   "metadata": {},
   "source": [
    "- Gets the result of the nearest neighbours, and find 4 neighbors closest to the movie recommended. \n",
    "- Labels the new movie that has been entered by the user. "
   ]
  },
  {
   "cell_type": "code",
   "execution_count": 75,
   "metadata": {},
   "outputs": [],
   "source": [
    "# This is the value that is being used to calculate distance from all the vectors \n",
    "def KNN_algorithm(Xtrain_dataset,movie_picked):\n",
    "  \n",
    "   \n",
    "   result = getKNearestNeighbour(Xtrain_dataset,movie_picked.values,10)\n",
    "\n",
    "   recommended_movies = pd.DataFrame()\n",
    "\n",
    "\n",
    "   for i in range(len(result)):\n",
    "   \n",
    "   \n",
    "      testDataSet.loc[(testDataSet['genres'] == result[i][0]) & (testDataSet['budget'] == result[i][1]) & (testDataSet['revenue'] == result[i][2]) & (testDataSet['runtime'] == result[i][3]) & (testDataSet['vote_average'] == result[i][4])]\n",
    "      recommended_movies = recommended_movies.append(testDataSet.loc[(testDataSet['genres'] == result[i][0]) & (testDataSet['budget'] == result[i][1]) & (testDataSet['revenue'] == result[i][2]) & (testDataSet['runtime'] == result[i][3]) & (testDataSet['vote_average'] == result[i][4])],ignore_index=True)\n",
    "   recommended_movies = recommended_movies.drop_duplicates(keep='first')\n",
    "   testDataSet.head()\n",
    "   # print(recommended_movies.iloc[1:len(recommended_movies)].title)\n",
    "\n",
    "   newLabel = recommended_movies['labels'].max()\n",
    "   return recommended_movies,newLabel"
   ]
  },
  {
   "cell_type": "code",
   "execution_count": 77,
   "metadata": {},
   "outputs": [],
   "source": [
    "def newMoive():\n",
    "    print('Enter the genre of the movie')\n",
    "    genre = input()\n",
    "    genre=stringToNumber(genre)\n",
    "    genre = float(genre)\n",
    "\n",
    "    print('Enter the budget of the movie')\n",
    "\n",
    "    budget = float(input())\n",
    "\n",
    "    print('Enter the runtime of the movie')\n",
    "    runtime = float(input())\n",
    "\n",
    "    print('Enter the revenue of the movie')\n",
    "    revenue = float(input())\n",
    "\n",
    "    print('Enter the vote of the movie')\n",
    "    vote_average = float(input())\n",
    "\n",
    "    print('Enter the title of the movie')\n",
    "    moive_title = input()\n",
    "\n",
    "    new_row = {'genres':genre,'budget':budget,\t\t'revenue':revenue,\t'runtime' :runtime\t,'vote_average':vote_average}\n",
    "    return new_row,moive_title\n",
    "   \n",
    "  "
   ]
  },
  {
   "attachments": {},
   "cell_type": "markdown",
   "metadata": {},
   "source": [
    "# New Moive "
   ]
  },
  {
   "cell_type": "code",
   "execution_count": 78,
   "metadata": {},
   "outputs": [
    {
     "name": "stdout",
     "output_type": "stream",
     "text": [
      "Enter the genre of the movie\n",
      "Enter the budget of the movie\n",
      "Enter the runtime of the movie\n",
      "Enter the revenue of the movie\n",
      "Enter the vote of the movie\n",
      "Enter the title of the movie\n",
      "movie picked:= fighter\n"
     ]
    }
   ],
   "source": [
    "\n",
    "new_row , moive_title= newMoive();\n",
    "tempDataset=tempDataset.append(new_row,ignore_index=True)\n",
    "tempDataset=((tempDataset - tempDataset.min())/(tempDataset.max() - tempDataset.min()))*9 +1\n",
    "\n",
    "Xtrain_dataset=Xtrain_dataset.append(tempDataset.iloc[-1],ignore_index=True)\n",
    "recommended_movies,newLabel = KNN_algorithm(Xtrain_dataset,Xtrain_dataset.iloc[-1])\n",
    "\n",
    "new_row = {'genres':tempDataset.iloc[-1][0]\t,'budget':tempDataset.iloc[-1][1]\t,'revenue':tempDataset.iloc[-1][2],'title':moive_title ,\t'runtime' :tempDataset.iloc[-1][3]\t,'vote_average':tempDataset.iloc[-1][4] ,'labels':newLabel}\n",
    "testDataSet=testDataSet.append(new_row,ignore_index=True)\n",
    "print('movie picked:=',testDataSet.iloc[-1].title)"
   ]
  },
  {
   "cell_type": "code",
   "execution_count": 79,
   "metadata": {},
   "outputs": [
    {
     "data": {
      "text/plain": [
       "budget          2.015021\n",
       "genres              10.0\n",
       "revenue         1.001515\n",
       "title            fighter\n",
       "runtime              5.5\n",
       "vote_average    8.758621\n",
       "labels               4.0\n",
       "Name: 54, dtype: object"
      ]
     },
     "execution_count": 79,
     "metadata": {},
     "output_type": "execute_result"
    }
   ],
   "source": [
    "testDataSet.iloc[-1]"
   ]
  },
  {
   "attachments": {},
   "cell_type": "markdown",
   "metadata": {},
   "source": [
    "# User Watched "
   ]
  },
  {
   "cell_type": "code",
   "execution_count": 80,
   "metadata": {},
   "outputs": [
    {
     "name": "stdout",
     "output_type": "stream",
     "text": [
      "moive_watched The Goods: Live Hard, Sell Hard\n",
      "8              Mars Attacks!\n",
      "7                    Blended\n",
      "6               The Terminal\n",
      "9    Bringing Down the House\n",
      "5                   Non-Stop\n",
      "4        Big Momma's House 2\n",
      "1          We're the Millers\n",
      "3             Little Fockers\n",
      "2       Cheaper by the Dozen\n",
      "Name: title, dtype: object here\n"
     ]
    }
   ],
   "source": [
    "\n",
    "user_watched  = Xtrain_dataset.iloc[40]\n",
    "print('moive_watched', testDataSet.iloc[20].title)\n",
    "recommended_movies,newLabel=KNN_algorithm(Xtrain_dataset,user_watched)\n",
    "for i in range(len(recommended_movies)):\n",
    "    usreMovie_recommended =usreMovie_recommended.append(recommended_movies.iloc[i])\n",
    "\n",
    "ourRecommendation =usreMovie_recommended.sample(n=10)\n",
    "# print(usreMovie_recommended.iloc[1:len(ourRecommendation)].title)\n",
    "print(ourRecommendation.iloc[1:len(ourRecommendation)].title,'here')"
   ]
  }
 ],
 "metadata": {
  "kernelspec": {
   "display_name": "Python 3.10.6 64-bit",
   "language": "python",
   "name": "python3"
  },
  "language_info": {
   "codemirror_mode": {
    "name": "ipython",
    "version": 3
   },
   "file_extension": ".py",
   "mimetype": "text/x-python",
   "name": "python",
   "nbconvert_exporter": "python",
   "pygments_lexer": "ipython3",
   "version": "3.10.6 (tags/v3.10.6:9c7b4bd, Aug  1 2022, 21:53:49) [MSC v.1932 64 bit (AMD64)]"
  },
  "orig_nbformat": 4,
  "vscode": {
   "interpreter": {
    "hash": "fbc768028c3e6ead51d9a200ddcb2ec858ae62844dcd1994729a8279be9b48f2"
   }
  }
 },
 "nbformat": 4,
 "nbformat_minor": 2
}
